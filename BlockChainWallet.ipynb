{
 "cells": [
  {
   "cell_type": "code",
   "execution_count": null,
   "id": "6292a3d1-06ea-40bf-bf81-aee4d8e596ec",
   "metadata": {},
   "outputs": [],
   "source": [
    "import subprocess \n",
    "import json\n",
    "import os\n",
    "from dotenv import load_dotenv\n",
    "from constants import *\n",
    "from bit import Key, PrivateKey, PrivateKeyTestnet\n",
    "from bit.network import NetworkAPI\n",
    "from bit import *\n",
    "from web3 import Web3\n",
    "from eth_account import Account "
   ]
  },
  {
   "cell_type": "code",
   "execution_count": null,
   "id": "462d7376-d5bc-4a5f-88de-6d3f6b360ff3",
   "metadata": {},
   "outputs": [],
   "source": [
    "# Nodes runing with POW\n",
    "w3 = Web3(Web3.HTTPProvider(\"http://127.0.0.1.8545\"))\n",
    "\n",
    "\n",
    "# Loading Mnemonic EV and (set this mnemonic as an environment variable, and include the one you generated as a fallback using)\n",
    "mnemonic = os.getenv('MNEMONIC', \"save amazing snack goose market glad glad fee vintage beauty enable frequent\")\n",
    "print(mnemonic)"
   ]
  },
  {
   "cell_type": "code",
   "execution_count": null,
   "id": "f62b3d64-af1c-4cfa-838b-2c76022f1dfe",
   "metadata": {},
   "outputs": [],
   "source": [
    "def derive_wallets(mnemonic, coin, numderive):\n",
    "    # Use the subprocess library to call the php file script from Python\n",
    "    command = f'php ./hd-wallet-derive/hd-wallet-derive.php -g --mnemonic=\"{mnemonic}\" --numderive=\"{numderive}\" --coin=\"{coin}\" --format=json' \n",
    "    \n",
    "    p = subprocess.Popen(command, stdout=subprocess.PIPE, shell=True)\n",
    "    (output, err) = p.communicate()\n",
    "   \n",
    "    keys = json.loads(output)\n",
    "    return  keys"
   ]
  },
  {
   "cell_type": "code",
   "execution_count": null,
   "id": "ea695612-fafe-46a1-8ec0-d2d860cef839",
   "metadata": {},
   "outputs": [],
   "source": [
    "#Setting dictionary of coins to be used in the wallet\n",
    "coins = {\"eth\", \"btc-test\", \"btc\"}\n",
    "numderive = 3"
   ]
  },
  {
   "cell_type": "code",
   "execution_count": null,
   "id": "2f2e1b5e-b454-4bb7-b13e-430b6bc89c21",
   "metadata": {},
   "outputs": [],
   "source": [
    "keys = {}\n",
    "for coin in coins:\n",
    "    keys[coin]= derive_wallets(os.getenv('mnemonic'), coin, numderive=3)"
   ]
  },
  {
   "cell_type": "code",
   "execution_count": null,
   "id": "a1abb51f-3012-4739-ab8f-181d1ae6ddc5",
   "metadata": {},
   "outputs": [],
   "source": [
    "eth_PrivateKey = keys[\"eth\"][0]['privkey']\n",
    "btc_PrivateKey = keys['btc-test'][0]['privkey']\n",
    "\n",
    "\n",
    "print(json.dumps(eth_PrivateKey, indent=4, sort_keys=True))\n",
    "print(json.dumps(btc_PrivateKey, indent=4, sort_keys=True))"
   ]
  },
  {
   "cell_type": "code",
   "execution_count": null,
   "id": "cad0f116-9f46-4d5f-85de-c47642ddbc29",
   "metadata": {
    "scrolled": true,
    "tags": []
   },
   "outputs": [],
   "source": [
    "print(json.dumps(keys, indent=4, sort_keys=True))"
   ]
  },
  {
   "cell_type": "code",
   "execution_count": null,
   "id": "828c91dd-735b-4858-814e-6e1a44f4a01e",
   "metadata": {},
   "outputs": [],
   "source": [
    "def priv_key_to_account(coin,priv_key):\n",
    "    print(coin)\n",
    "    print(priv_key)\n",
    "    if coin == ETH:\n",
    "        return Account.privateKeyToAccount(priv_key)\n",
    "    elif coin == BTCTEST:\n",
    "        return PrivateKeyTestnet(priv_key)"
   ]
  },
  {
   "cell_type": "code",
   "execution_count": null,
   "id": "cf8964d5-8d5a-4a4d-87d5-18a272c4cfa2",
   "metadata": {},
   "outputs": [],
   "source": [
    "btc_acc = priv_key_to_account(BTCTEST,btc_PrivateKey)\n",
    "eth_acc = priv_key_to_account(ETH,eth_PrivateKey)"
   ]
  },
  {
   "cell_type": "code",
   "execution_count": null,
   "id": "d3d914d4-ce4a-49c5-a1ba-582718a9a726",
   "metadata": {},
   "outputs": [],
   "source": [
    "print(eth_acc)\n",
    "print(btc_acc)"
   ]
  },
  {
   "cell_type": "code",
   "execution_count": null,
   "id": "06a1c7ee-c1d6-4dd3-8ee8-3b921432cfe2",
   "metadata": {},
   "outputs": [],
   "source": [
    "def create_tx(coin, account, recipient, amount):\n",
    "    # create the raw, unsigned transaction that contains all metadata needed to transact \n",
    "    global trx_data\n",
    "    if coin ==ETH:\n",
    "        gasEstimate = w3.eth.estimateGas(\n",
    "            {\"from\": account.address, \"to\": recipient, \"value\": amount}\n",
    "        )\n",
    "        trx_data = {\n",
    "            \"to\": recipient,\n",
    "            \"from\": account.address,\n",
    "            \"value\": amount,\n",
    "            \"gasPrice\": w3.eth.gasPrice,\n",
    "            \"gas\": gasEstimate,\n",
    "            \"nonce\": w3.eth.getTransactionCount(account.address)\n",
    "        }\n",
    "        return trx_data\n",
    "\n",
    "    if coin == BTCTEST:\n",
    "        return PrivateKeyTestnet.prepare_transaction(account.address, [(recipient, amount, BTC)]) "
   ]
  },
  {
   "cell_type": "code",
   "execution_count": null,
   "id": "68b8b1fb-9e51-4fb7-8679-8b480cdbccae",
   "metadata": {},
   "outputs": [],
   "source": [
    "def send_tx(coin, account, recipient, amount):\n",
    "    # call create_trx, sign the transaction, then send it to the designated network\n",
    "    if coin == \"eth\": \n",
    "        trx_eth = create_tx(coin,account, recipient, amount)\n",
    "        sign = account.signTransaction(trx_eth)\n",
    "        result = w3.eth.sendRawTransaction(sign.rawTransaction)\n",
    "        print(result.hex())\n",
    "        return result.hex()\n",
    "    else:\n",
    "        trx_btctest= create_tx(coin,account,recipient,amount)\n",
    "        sign_tx_btctest = account.sign_transaction(trx_btctest)\n",
    "        from bit.network import NetworkAPI\n",
    "        NetworkAPI.broadcast_tx_testnet(sign_tx_btctest)       \n",
    "        return sign_tx_btctest"
   ]
  },
  {
   "cell_type": "code",
   "execution_count": null,
   "id": "fa860ac2-7282-4236-9b67-45cb6a41c4c3",
   "metadata": {},
   "outputs": [],
   "source": [
    "create_tx(BTCTEST,btc_acc,\"miZgMxdGzSxCTpWazfD2KqhewoUvcQ6CC1\", 0.00001)"
   ]
  },
  {
   "cell_type": "code",
   "execution_count": null,
   "id": "74e37885-27fa-4f95-9f50-cf8ae47d0c2a",
   "metadata": {},
   "outputs": [],
   "source": [
    "send_tx(BTCTEST,btc_acc,'miZgMxdGzSxCTpWazfD2KqhewoUvcQ6CC1',0.00001)"
   ]
  },
  {
   "cell_type": "code",
   "execution_count": null,
   "id": "a7e85c21-2dfe-4079-a8bf-f7c3626b69be",
   "metadata": {},
   "outputs": [],
   "source": [
    "from web3.middleware import geth_poa_middleware\n",
    "\n",
    "w3.middleware_onion.inject(geth_poa_middleware, layer=0)"
   ]
  },
  {
   "cell_type": "code",
   "execution_count": null,
   "id": "3a47a674-3577-4a42-be0e-3681de1bf7fd",
   "metadata": {},
   "outputs": [],
   "source": [
    "from web3 import Web3, HTTPProvider"
   ]
  },
  {
   "cell_type": "code",
   "execution_count": null,
   "id": "972308d4-89c7-44d8-9f29-8f0e64dfadd5",
   "metadata": {},
   "outputs": [],
   "source": [
    "#connecting to HTTP with address pk\n",
    "w3 = Web3(Web3.HTTPProvider(\"http://127.0.0.1:8545/0x5619d0cce54919511eb9f3b678de07bd346044acee0bdd6cdf4497ba45e03f81\"))\n"
   ]
  },
  {
   "cell_type": "code",
   "execution_count": null,
   "id": "7151520b-669d-4d7f-b185-a0b911d33ab9",
   "metadata": {},
   "outputs": [],
   "source": [
    "#checking the Block Number\n",
    "w3.eth.blockNumber"
   ]
  },
  {
   "cell_type": "code",
   "execution_count": null,
   "id": "2c8b2952-6880-4a3e-a64f-b403258fb638",
   "metadata": {},
   "outputs": [],
   "source": [
    "# double check if  I am connected to blockchain. \n",
    "w3.isConnected()"
   ]
  },
  {
   "cell_type": "code",
   "execution_count": null,
   "id": "a8323a20-6a62-4f4c-bff6-fb01f409ce2b",
   "metadata": {},
   "outputs": [],
   "source": [
    "w3.eth.getBalance(\"0x2Ad0FD35E0Df759985828a0E9597b98eb7caAE5e\")"
   ]
  },
  {
   "cell_type": "code",
   "execution_count": null,
   "id": "a80da193-aff0-43de-bbd1-d1d1f00f1b0f",
   "metadata": {},
   "outputs": [],
   "source": [
    "create_tx(ETH,eth_acc,\"0x2Ad0FD35E0Df759985828a0E9597b98eb7caAE5e\", 1000)"
   ]
  },
  {
   "cell_type": "code",
   "execution_count": null,
   "id": "e362e1d3-7fa7-4739-aed2-742fcd9b4799",
   "metadata": {},
   "outputs": [],
   "source": [
    "send_tx(ETH, eth_acc,\"0x2Ad0FD35E0Df759985828a0E9597b98eb7caAE5e\", 1000)"
   ]
  },
  {
   "cell_type": "code",
   "execution_count": null,
   "id": "8c7801b4-b2bb-47d8-b7c7-2dbe36ed8bab",
   "metadata": {},
   "outputs": [],
   "source": [
    "w3.eth.getBalance(\"0x2Ad0FD35E0Df759985828a0E9597b98eb7caAE5e\")"
   ]
  },
  {
   "cell_type": "code",
   "execution_count": null,
   "id": "c35bde4c-941c-4200-b67b-347c4a881b6d",
   "metadata": {},
   "outputs": [],
   "source": [
    " "
   ]
  }
 ],
 "metadata": {
  "kernelspec": {
   "display_name": "Python 3",
   "language": "python",
   "name": "python3"
  },
  "language_info": {
   "codemirror_mode": {
    "name": "ipython",
    "version": 3
   },
   "file_extension": ".py",
   "mimetype": "text/x-python",
   "name": "python",
   "nbconvert_exporter": "python",
   "pygments_lexer": "ipython3",
   "version": "3.7.10"
  }
 },
 "nbformat": 4,
 "nbformat_minor": 5
}
